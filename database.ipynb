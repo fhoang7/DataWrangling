{
 "cells": [
  {
   "cell_type": "code",
   "execution_count": 47,
   "metadata": {
    "collapsed": false
   },
   "outputs": [],
   "source": [
    "\"\"\"\n",
    "Build database of the CSV files with the repective table names.\n",
    "\"\"\"\n",
    "import csv, sqlite3\n",
    "\n",
    "con = sqlite3.connect(\"SANFRAN.db\")\n",
    "con.text_factory = str\n",
    "cur = con.cursor()\n",
    "\n",
    "# create nodes table\n",
    "cur.execute(\"CREATE TABLE nodes (id, lat, lon, user, uid, version, changeset, timestamp);\")\n",
    "with open('nodes.csv','rb') as fin:\n",
    "    dr = csv.DictReader(fin) \n",
    "    to_db = [(i['id'], i['lat'], i['lon'], i['user'], i['uid'], i['version'], i['changeset'], i['timestamp']) \\\n",
    "             for i in dr]\n",
    "\n",
    "cur.executemany(\"INSERT INTO nodes (id, lat, lon, user, uid, version, changeset, timestamp) \\\n",
    "                VALUES (?, ?, ?, ?, ?, ?, ?, ?);\", to_db)\n",
    "con.commit()\n",
    "\n",
    "#create nodes_tags table\n",
    "cur.execute(\"CREATE TABLE nodes_tags (id, key, value, type);\")\n",
    "with open('nodes_tags.csv','rb') as fin:\n",
    "    dr = csv.DictReader(fin) \n",
    "    to_db = [(i['id'], i['key'], i['value'], i['type']) for i in dr]\n",
    "\n",
    "cur.executemany(\"INSERT INTO nodes_tags (id, key, value, type) VALUES (?, ?, ?, ?);\", to_db)\n",
    "con.commit()\n",
    "\n",
    "#Create ways table\n",
    "cur.execute(\"CREATE TABLE ways (id, user, uid, version, changeset, timestamp);\")\n",
    "with open('ways.csv','rb') as fin:\n",
    "    dr = csv.DictReader(fin) \n",
    "    to_db = [(i['id'], i['user'], i['uid'], i['version'], i['changeset'], i['timestamp']) for i in dr]\n",
    "\n",
    "cur.executemany(\"INSERT INTO ways (id, user, uid, version, changeset, timestamp) VALUES (?, ?, ?, ?, ?, ?);\", to_db)\n",
    "con.commit()\n",
    "\n",
    "#Create ways_nodes table\n",
    "cur.execute(\"CREATE TABLE ways_nodes (id, node_id, position);\")\n",
    "with open('ways_nodes.csv','rb') as fin:\n",
    "    dr = csv.DictReader(fin) \n",
    "    to_db = [(i['id'], i['node_id'], i['position']) for i in dr]\n",
    "\n",
    "cur.executemany(\"INSERT INTO ways_nodes (id, node_id, position) VALUES (?, ?, ?);\", to_db)\n",
    "con.commit()\n",
    "\n",
    "#Create ways_tags table\n",
    "cur.execute(\"CREATE TABLE ways_tags (id, key, value, type);\")\n",
    "with open('ways_tags.csv','rb') as fin:\n",
    "    dr = csv.DictReader(fin) \n",
    "    to_db = [(i['id'], i['key'], i['value'], i['type']) for i in dr]\n",
    "\n",
    "cur.executemany(\"INSERT INTO ways_tags (id, key, value, type) VALUES (?, ?, ?, ?);\", to_db)\n",
    "con.commit()"
   ]
  },
  {
   "cell_type": "code",
   "execution_count": 46,
   "metadata": {
    "collapsed": false
   },
   "outputs": [],
   "source": [
    "con = sqlite3.connect(\"SANFRAN.db\")\n",
    "cur = con.cursor()\n",
    "cur.execute('DROP TABLE IF EXISTS nodes')\n",
    "con.commit()\n",
    "cur.execute('DROP TABLE IF EXISTS nodes_tags')\n",
    "con.commit()\n",
    "cur.execute('DROP TABLE IF EXISTS ways')\n",
    "con.commit()\n",
    "cur.execute('DROP TABLE IF EXISTS ways_tags')\n",
    "con.commit()\n",
    "cur.execute('DROP TABLE IF EXISTS ways_nodes')\n",
    "con.commit()"
   ]
  },
  {
   "cell_type": "code",
   "execution_count": 49,
   "metadata": {
    "collapsed": false
   },
   "outputs": [
    {
     "data": {
      "text/plain": [
       "6278429"
      ]
     },
     "execution_count": 49,
     "metadata": {},
     "output_type": "execute_result"
    }
   ],
   "source": [
    "def number_of_nodes():\n",
    "    result = cur.execute('SELECT COUNT(*) FROM nodes')\n",
    "    return result.fetchone()[0]\n",
    "number_of_nodes()"
   ]
  },
  {
   "cell_type": "code",
   "execution_count": 51,
   "metadata": {
    "collapsed": false
   },
   "outputs": [
    {
     "data": {
      "text/plain": [
       "770438"
      ]
     },
     "execution_count": 51,
     "metadata": {},
     "output_type": "execute_result"
    }
   ],
   "source": [
    "def number_of_ways():\n",
    "    result = cur.execute('SELECT COUNT(*) FROM ways')\n",
    "    return result.fetchone()[0]"
   ]
  },
  {
   "cell_type": "code",
   "execution_count": 53,
   "metadata": {
    "collapsed": false
   },
   "outputs": [
    {
     "data": {
      "text/plain": [
       "2666"
      ]
     },
     "execution_count": 53,
     "metadata": {},
     "output_type": "execute_result"
    }
   ],
   "source": [
    "def number_of_unique_users():\n",
    "    result = cur.execute('SELECT COUNT(DISTINCT(uid)) FROM (SELECT uid FROM nodes UNION ALL SELECT uid FROM ways)')\n",
    "    return result.fetchone()[0]"
   ]
  },
  {
   "cell_type": "code",
   "execution_count": 67,
   "metadata": {
    "collapsed": false
   },
   "outputs": [
    {
     "data": {
      "text/plain": [
       "[('andygol', 1288108),\n",
       " ('ediyes', 912011),\n",
       " ('Luis36995', 703573),\n",
       " ('dannykath', 445309),\n",
       " ('RichRico', 404022),\n",
       " ('Rub21', 393086),\n",
       " ('calfarome', 185572),\n",
       " ('oldtopos', 167231),\n",
       " ('KindredCoda', 149861),\n",
       " ('karitotp', 134929)]"
      ]
     },
     "execution_count": 67,
     "metadata": {},
     "output_type": "execute_result"
    }
   ],
   "source": [
    "def top_users():\n",
    "    users = []\n",
    "    for row in (cur.execute('SELECT user, COUNT(*) as num FROM (SELECT user FROM nodes UNION ALL SELECT user FROM ways) GROUP BY user ORDER BY num DESC Limit 10')):\n",
    "        users.append(row)\n",
    "    return users\n",
    "top_users()"
   ]
  },
  {
   "cell_type": "code",
   "execution_count": 71,
   "metadata": {
    "collapsed": false
   },
   "outputs": [
    {
     "data": {
      "text/plain": [
       "[('restaurant', 2884),\n",
       " ('bench', 1162),\n",
       " ('cafe', 970),\n",
       " ('place_of_worship', 702),\n",
       " ('post_box', 684),\n",
       " ('school', 590),\n",
       " ('fast_food', 580),\n",
       " ('bicycle_parking', 558),\n",
       " ('drinking_water', 507),\n",
       " ('toilets', 401)]"
      ]
     },
     "execution_count": 71,
     "metadata": {},
     "output_type": "execute_result"
    }
   ],
   "source": [
    "def top_amenities():\n",
    "    amenities = []\n",
    "    for row in (cur.execute('SELECT value, COUNT(*) as num FROM nodes_tags WHERE key = \"amenity\" GROUP BY VALUE ORDER BY num DESC LIMIT 10')):\n",
    "        amenities.append(row)\n",
    "    return amenities\n",
    "top_amenities()"
   ]
  },
  {
   "cell_type": "code",
   "execution_count": 107,
   "metadata": {
    "collapsed": false
   },
   "outputs": [
    {
     "name": "stdout",
     "output_type": "stream",
     "text": [
      "('Subway', 63)\n",
      "(\"McDonald's\", 26)\n",
      "('Taco Bell', 22)\n",
      "('Burger King', 21)\n",
      "('Jamba Juice', 18)\n",
      "('Chipotle', 11)\n",
      "('Jack in the Box', 9)\n",
      "('KFC', 8)\n",
      "(\"Togo's\", 7)\n",
      "(\"Wendy's\", 6)\n"
     ]
    }
   ],
   "source": [
    "def popular_fast_foods():\n",
    "\tfor row in cur.execute('SELECT nodes_tags.value, COUNT(*) as num \\\n",
    "            FROM nodes_tags \\\n",
    "                JOIN (SELECT DISTINCT(id) FROM nodes_tags WHERE value=\"fast_food\") i \\\n",
    "                ON nodes_tags.id=i.id \\\n",
    "            WHERE nodes_tags.key=\"name\" \\\n",
    "            GROUP BY nodes_tags.value \\\n",
    "            ORDER BY num DESC Limit 10'):\n",
    "            print row;\n",
    "popular_fast_foods()"
   ]
  },
  {
   "cell_type": "code",
   "execution_count": 110,
   "metadata": {
    "collapsed": false
   },
   "outputs": [
    {
     "name": "stdout",
     "output_type": "stream",
     "text": [
      "('Starbucks', 126)\n",
      "(\"Peet's Coffee & Tea\", 24)\n",
      "('Starbucks Coffee', 18)\n",
      "(\"Peet's Coffee\", 10)\n",
      "('Philz Coffee', 10)\n",
      "(\"Peet's Coffee and Tea\", 8)\n",
      "('Quickly', 7)\n",
      "('Blue Bottle Coffee', 5)\n",
      "('Jamba Juice', 5)\n",
      "('Royal Ground Coffee', 5)\n"
     ]
    }
   ],
   "source": [
    "def popular_cafes():\n",
    "\tfor row in cur.execute('SELECT nodes_tags.value, COUNT(*) as num \\\n",
    "            FROM nodes_tags \\\n",
    "                JOIN (SELECT DISTINCT(id) FROM nodes_tags WHERE value=\"cafe\") i \\\n",
    "                ON nodes_tags.id=i.id \\\n",
    "            WHERE nodes_tags.key=\"name\" \\\n",
    "            GROUP BY nodes_tags.value \\\n",
    "            ORDER BY num DESC Limit 10'):\n",
    "            print row;\n",
    "popular_cafes()"
   ]
  }
 ],
 "metadata": {
  "anaconda-cloud": {},
  "kernelspec": {
   "display_name": "Python [default]",
   "language": "python",
   "name": "python2"
  },
  "language_info": {
   "codemirror_mode": {
    "name": "ipython",
    "version": 2
   },
   "file_extension": ".py",
   "mimetype": "text/x-python",
   "name": "python",
   "nbconvert_exporter": "python",
   "pygments_lexer": "ipython2",
   "version": "2.7.12"
  }
 },
 "nbformat": 4,
 "nbformat_minor": 1
}
